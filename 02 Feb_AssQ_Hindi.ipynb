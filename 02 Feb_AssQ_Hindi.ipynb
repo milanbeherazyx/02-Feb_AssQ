{
 "cells": [
  {
   "cell_type": "code",
   "execution_count": 2,
   "id": "44934270-c628-4470-9003-9cb488e22033",
   "metadata": {},
   "outputs": [],
   "source": [
    "#Q1. Explain with an example each when to use a for loop and a while loop."
   ]
  },
  {
   "cell_type": "code",
   "execution_count": 5,
   "id": "9de7efc0-7bde-4142-8977-cb5c155b00fa",
   "metadata": {},
   "outputs": [
    {
     "data": {
      "text/plain": [
       "'\\nA for loop is typically used when we know the exact number of times we need to iterate through a sequence or perform a task.\\nThe for loop is used to iterate over a fixed sequence or range of values, executing a block of code each time. \\nI am writting an example of using a for loop in Python to print the first five numbers:\\n'"
      ]
     },
     "execution_count": 5,
     "metadata": {},
     "output_type": "execute_result"
    }
   ],
   "source": [
    "\"\"\"\n",
    "A for loop is typically used when we know the exact number of times we need to iterate through a sequence or perform a task.\n",
    "The for loop is used to iterate over a fixed sequence or range of values, executing a block of code each time. \n",
    "I am writting an example of using a for loop in Python to print the first five numbers:\n",
    "\"\"\""
   ]
  },
  {
   "cell_type": "code",
   "execution_count": 3,
   "id": "268fed92-bcea-48fb-99da-cbe5f1a30d23",
   "metadata": {},
   "outputs": [
    {
     "name": "stdout",
     "output_type": "stream",
     "text": [
      "1\n",
      "2\n",
      "3\n",
      "4\n",
      "5\n"
     ]
    }
   ],
   "source": [
    "for i in range(1, 6):\n",
    "    print(i)\n"
   ]
  },
  {
   "cell_type": "code",
   "execution_count": 7,
   "id": "a1c7d685-006f-40b5-8d25-c69e0f1b82c6",
   "metadata": {},
   "outputs": [
    {
     "data": {
      "text/plain": [
       "\"\\nA while loop, on the other hand, is used when we don't know exactly how many times we need to iterate through a loop. \\nThe while loop continues to execute the block of code as long as the specified condition is true. \\nI am writting an example of using a while loop in Python to print the first five even numbers:\\n\""
      ]
     },
     "execution_count": 7,
     "metadata": {},
     "output_type": "execute_result"
    }
   ],
   "source": [
    "\"\"\"\n",
    "A while loop, on the other hand, is used when we don't know exactly how many times we need to iterate through a loop. \n",
    "The while loop continues to execute the block of code as long as the specified condition is true. \n",
    "I am writting an example of using a while loop in Python to print the first five even numbers:\n",
    "\"\"\""
   ]
  },
  {
   "cell_type": "code",
   "execution_count": 6,
   "id": "eb818d8d-38a1-4027-aeeb-6242ac0a3bd3",
   "metadata": {},
   "outputs": [
    {
     "name": "stdout",
     "output_type": "stream",
     "text": [
      "2\n",
      "4\n",
      "6\n",
      "8\n",
      "10\n"
     ]
    }
   ],
   "source": [
    "i = 1\n",
    "count = 0\n",
    "while count < 5:\n",
    "    if i % 2 == 0:\n",
    "        print(i)\n",
    "        count += 1\n",
    "    i += 1\n"
   ]
  },
  {
   "cell_type": "code",
   "execution_count": 8,
   "id": "91ba5395-fc6a-463b-a47c-a1d6be90cc38",
   "metadata": {},
   "outputs": [],
   "source": [
    "#Q2. Write a python program to print the sum and product of the first 10 natural numbers using for and while loop."
   ]
  },
  {
   "cell_type": "code",
   "execution_count": 9,
   "id": "5c51ad52-81ee-417d-b395-86a1ab212d13",
   "metadata": {},
   "outputs": [],
   "source": [
    "#Using a for loop:"
   ]
  },
  {
   "cell_type": "code",
   "execution_count": 13,
   "id": "d5fbfae1-0cf0-4159-b4c0-c547d12de6f9",
   "metadata": {},
   "outputs": [
    {
     "name": "stdout",
     "output_type": "stream",
     "text": [
      "The sum of the first 10 natural numbers is: 55\n",
      "The product of the first 10 natural numbers is: 3628800\n"
     ]
    }
   ],
   "source": [
    "sum = 0\n",
    "product = 1\n",
    "\n",
    "for i in range(1, 11):\n",
    "    sum += i\n",
    "    product *= i\n",
    "\n",
    "print(\"The sum of the first 10 natural numbers is:\", sum)\n",
    "print(\"The product of the first 10 natural numbers is:\", product)"
   ]
  },
  {
   "cell_type": "code",
   "execution_count": 11,
   "id": "c4b688df-1126-4f87-946d-968e71fdc093",
   "metadata": {},
   "outputs": [],
   "source": [
    "#Using a while loop:"
   ]
  },
  {
   "cell_type": "code",
   "execution_count": 14,
   "id": "4925490e-1417-4563-ab4f-d0ebde4c60fa",
   "metadata": {},
   "outputs": [
    {
     "name": "stdout",
     "output_type": "stream",
     "text": [
      "The sum of the first 10 natural numbers is: 55\n",
      "The product of the first 10 natural numbers is: 3628800\n"
     ]
    }
   ],
   "source": [
    "sum = 0\n",
    "product = 1\n",
    "i = 1\n",
    "\n",
    "while i <= 10:\n",
    "    sum += i\n",
    "    product *= i\n",
    "    i += 1\n",
    "\n",
    "print(\"The sum of the first 10 natural numbers is:\", sum)\n",
    "print(\"The product of the first 10 natural numbers is:\", product)"
   ]
  },
  {
   "cell_type": "code",
   "execution_count": 15,
   "id": "bbdf583f-ee1b-4271-817e-e64a0342d7fe",
   "metadata": {},
   "outputs": [
    {
     "data": {
      "text/plain": [
       "'\\nQ3. Create a python program to compute the electricity bill for a household. \\nThe per-unit charges in rupees are as follows: For the first 100 units, the user will be charged Rs. 4.5 per unit, \\nfor the next 100 units, the user will be charged Rs. 6 per unit, and \\nfor the next 100 units, the user will be charged Rs. 10 per unit, \\nAfter 300 units and above the user will be charged Rs. 20 per unit. \\n\\nYou are required to take the units of electricity consumed in a month from the user as input. \\n\\nYour program must pass this test case: when the unit of electricity consumed by the user in a month is 310, \\nthe total electricity bill should be 2250.\\n'"
      ]
     },
     "execution_count": 15,
     "metadata": {},
     "output_type": "execute_result"
    }
   ],
   "source": [
    "\"\"\"\n",
    "Q3. Create a python program to compute the electricity bill for a household. \n",
    "The per-unit charges in rupees are as follows: For the first 100 units, the user will be charged Rs. 4.5 per unit, \n",
    "for the next 100 units, the user will be charged Rs. 6 per unit, and \n",
    "for the next 100 units, the user will be charged Rs. 10 per unit, \n",
    "After 300 units and above the user will be charged Rs. 20 per unit. \n",
    "\n",
    "You are required to take the units of electricity consumed in a month from the user as input. \n",
    "\n",
    "Your program must pass this test case: when the unit of electricity consumed by the user in a month is 310, \n",
    "the total electricity bill should be 2250.\n",
    "\"\"\""
   ]
  },
  {
   "cell_type": "code",
   "execution_count": 16,
   "id": "956e053f-1203-49d1-b37e-83c08c80daf2",
   "metadata": {},
   "outputs": [
    {
     "name": "stdin",
     "output_type": "stream",
     "text": [
      "Enter the number of units consumed:  310\n"
     ]
    },
    {
     "name": "stdout",
     "output_type": "stream",
     "text": [
      "Total electricity bill: Rs. 2250.0\n"
     ]
    }
   ],
   "source": [
    "units = int(input(\"Enter the number of units consumed: \"))\n",
    "total_bill = 0\n",
    "\n",
    "if units <= 100:\n",
    "    total_bill = units * 4.5\n",
    "elif units <= 200:\n",
    "    total_bill = 100 * 4.5 + (units - 100) * 6\n",
    "elif units <= 300:\n",
    "    total_bill = 100 * 4.5 + 100 * 6 + (units - 200) * 10\n",
    "else:\n",
    "    total_bill = 100 * 4.5 + 100 * 6 + 100 * 10 + (units - 300) * 20\n",
    "\n",
    "print(\"Total electricity bill: Rs.\", total_bill)\n"
   ]
  },
  {
   "cell_type": "code",
   "execution_count": 17,
   "id": "0c77a0a0-2e9a-4278-a211-9cb0735f13cf",
   "metadata": {},
   "outputs": [
    {
     "data": {
      "text/plain": [
       "'\\nQ4. Create a list of numbers from 1 to 100. \\nUse for loop and while loop to calculate the cube of each number and \\nif the cube of that number is divisible by 4 or 5 then append that number in a list and print that list.\\n'"
      ]
     },
     "execution_count": 17,
     "metadata": {},
     "output_type": "execute_result"
    }
   ],
   "source": [
    "\"\"\"\n",
    "Q4. Create a list of numbers from 1 to 100. \n",
    "Use for loop and while loop to calculate the cube of each number and \n",
    "if the cube of that number is divisible by 4 or 5 then append that number in a list and print that list.\n",
    "\"\"\""
   ]
  },
  {
   "cell_type": "code",
   "execution_count": 18,
   "id": "7a5b6168-8bf5-48ca-9cd7-dc300d61fed3",
   "metadata": {},
   "outputs": [],
   "source": [
    "# using for loop"
   ]
  },
  {
   "cell_type": "code",
   "execution_count": 19,
   "id": "2c13bc7c-1e85-49db-98f9-7181be3a2252",
   "metadata": {},
   "outputs": [
    {
     "name": "stdout",
     "output_type": "stream",
     "text": [
      "Numbers whose cube is divisible by 4 or 5: [2, 4, 5, 6, 8, 10, 12, 14, 15, 16, 18, 20, 22, 24, 25, 26, 28, 30, 32, 34, 35, 36, 38, 40, 42, 44, 45, 46, 48, 50, 52, 54, 55, 56, 58, 60, 62, 64, 65, 66, 68, 70, 72, 74, 75, 76, 78, 80, 82, 84, 85, 86, 88, 90, 92, 94, 95, 96, 98, 100]\n"
     ]
    }
   ],
   "source": [
    "cubes = []\n",
    "for i in range(1, 101):\n",
    "    cube = i ** 3\n",
    "    if cube % 4 == 0 or cube % 5 == 0:\n",
    "        cubes.append(i)\n",
    "\n",
    "print(\"Numbers whose cube is divisible by 4 or 5:\", cubes)\n"
   ]
  },
  {
   "cell_type": "code",
   "execution_count": 20,
   "id": "456278aa-2e2f-4348-9fe5-e7a6b6f41268",
   "metadata": {},
   "outputs": [],
   "source": [
    "# using while loop"
   ]
  },
  {
   "cell_type": "code",
   "execution_count": 21,
   "id": "26035a1f-8881-49fb-b6b7-7e106022ed28",
   "metadata": {},
   "outputs": [
    {
     "name": "stdout",
     "output_type": "stream",
     "text": [
      "Numbers whose cube is divisible by 4 or 5: [2, 4, 5, 6, 8, 10, 12, 14, 15, 16, 18, 20, 22, 24, 25, 26, 28, 30, 32, 34, 35, 36, 38, 40, 42, 44, 45, 46, 48, 50, 52, 54, 55, 56, 58, 60, 62, 64, 65, 66, 68, 70, 72, 74, 75, 76, 78, 80, 82, 84, 85, 86, 88, 90, 92, 94, 95, 96, 98, 100]\n"
     ]
    }
   ],
   "source": [
    "cubes = []\n",
    "i = 1\n",
    "while i <= 100:\n",
    "    cube = i ** 3\n",
    "    if cube % 4 == 0 or cube % 5 == 0:\n",
    "        cubes.append(i)\n",
    "    i += 1\n",
    "\n",
    "print(\"Numbers whose cube is divisible by 4 or 5:\", cubes)\n"
   ]
  },
  {
   "cell_type": "code",
   "execution_count": 25,
   "id": "3ed8d28f-9490-4a23-a1f3-1b08f660e3c9",
   "metadata": {},
   "outputs": [
    {
     "data": {
      "text/plain": [
       "'\\nQ5. Write a program to filter count vowels in the below-given string.\\nstring = \"I want to become a data scientist\"\\n'"
      ]
     },
     "execution_count": 25,
     "metadata": {},
     "output_type": "execute_result"
    }
   ],
   "source": [
    "\"\"\"\n",
    "Q5. Write a program to filter count vowels in the below-given string.\n",
    "string = \"I want to become a data scientist\"\n",
    "\"\"\""
   ]
  },
  {
   "cell_type": "code",
   "execution_count": 27,
   "id": "33a89023-4c99-4b08-8d5e-8ad5e48327f0",
   "metadata": {},
   "outputs": [
    {
     "name": "stdout",
     "output_type": "stream",
     "text": [
      "The number of vowels in the string is: 12\n"
     ]
    }
   ],
   "source": [
    "string = \"I want to become a data scientist\"\n",
    "vowels = \"aeiouAEIOU\"\n",
    "\n",
    "count = 0\n",
    "for character in string:\n",
    "    if character in vowels:\n",
    "        count += 1\n",
    "\n",
    "print(\"The number of vowels in the string is:\", count)\n"
   ]
  },
  {
   "cell_type": "code",
   "execution_count": null,
   "id": "c2015171-76b0-4bd6-add0-a58e8f9703e3",
   "metadata": {},
   "outputs": [],
   "source": []
  }
 ],
 "metadata": {
  "kernelspec": {
   "display_name": "Python 3 (ipykernel)",
   "language": "python",
   "name": "python3"
  },
  "language_info": {
   "codemirror_mode": {
    "name": "ipython",
    "version": 3
   },
   "file_extension": ".py",
   "mimetype": "text/x-python",
   "name": "python",
   "nbconvert_exporter": "python",
   "pygments_lexer": "ipython3",
   "version": "3.10.8"
  }
 },
 "nbformat": 4,
 "nbformat_minor": 5
}
